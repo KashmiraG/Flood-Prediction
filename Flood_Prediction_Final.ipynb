{
  "nbformat": 4,
  "nbformat_minor": 0,
  "metadata": {
    "colab": {
      "provenance": [],
      "authorship_tag": "ABX9TyNUnczy6Emst5zJ9No5V+82",
      "include_colab_link": true
    },
    "kernelspec": {
      "name": "python3",
      "display_name": "Python 3"
    },
    "language_info": {
      "name": "python"
    }
  },
  "cells": [
    {
      "cell_type": "markdown",
      "metadata": {
        "id": "view-in-github",
        "colab_type": "text"
      },
      "source": [
        "<a href=\"https://colab.research.google.com/github/KashmiraG/Flood-Prediction/blob/main/Flood_Prediction_Final.ipynb\" target=\"_parent\"><img src=\"https://colab.research.google.com/assets/colab-badge.svg\" alt=\"Open In Colab\"/></a>"
      ]
    },
    {
      "cell_type": "code",
      "execution_count": 1,
      "metadata": {
        "colab": {
          "base_uri": "https://localhost:8080/"
        },
        "id": "EJ8juKR0JUYn",
        "outputId": "05a4bcaa-22f9-4f71-dfff-741857c32a12"
      },
      "outputs": [
        {
          "output_type": "stream",
          "name": "stdout",
          "text": [
            "Mean Squared Error: 0.010049276769063602\n",
            "R-squared: 0.7282675561645202\n"
          ]
        },
        {
          "output_type": "stream",
          "name": "stderr",
          "text": [
            "/usr/local/lib/python3.10/dist-packages/sklearn/preprocessing/_encoders.py:868: FutureWarning: `sparse` was renamed to `sparse_output` in version 1.2 and will be removed in 1.4. `sparse_output` is ignored unless you leave `sparse` to its default value.\n",
            "  warnings.warn(\n"
          ]
        }
      ],
      "source": [
        "# Import necessary libraries\n",
        "import pandas as pd\n",
        "from sklearn.model_selection import train_test_split\n",
        "from sklearn.svm import SVR\n",
        "from sklearn.preprocessing import StandardScaler\n",
        "from sklearn.metrics import mean_squared_error, r2_score\n",
        "from sklearn.preprocessing import LabelEncoder, OneHotEncoder\n",
        "from sklearn.compose import ColumnTransformer\n",
        "from sklearn.pipeline import Pipeline\n",
        "\n",
        "# Load your dataset (replace 'your_dataset.csv' with your data file)\n",
        "data = pd.read_csv('/content/IndianWeatherRepository (1).csv')\n",
        "\n",
        "# Data preprocessing\n",
        "# Encode 'condition_text' using one-hot encoding\n",
        "label_encoder = LabelEncoder()\n",
        "data['condition_text'] = label_encoder.fit_transform(data['condition_text'])\n",
        "onehot_encoder = OneHotEncoder(sparse=False, categories='auto')\n",
        "data_encoded = onehot_encoder.fit_transform(data[['condition_text']])\n",
        "data_encoded = pd.DataFrame(data_encoded, columns=['condition_' + str(i) for i in range(data_encoded.shape[1])])\n",
        "\n",
        "# Combine the one-hot encoded columns with the original data\n",
        "data = pd.concat([data, data_encoded], axis=1)\n",
        "\n",
        "# Define your features (X) and target (y)\n",
        "X = data[['temperature_celsius', 'wind_kph', 'pressure_in', 'humidity', 'cloud', 'Water Level'] + list(data.columns[7:])]\n",
        "y = data['Flood']\n",
        "\n",
        "# Split the data into training and testing sets\n",
        "X_train, X_test, y_train, y_test = train_test_split(X, y, test_size=0.2, random_state=42)\n",
        "\n",
        "# Create a data preprocessing pipeline (optional)\n",
        "scaler = StandardScaler()\n",
        "preprocessor = ColumnTransformer(\n",
        "    transformers=[\n",
        "        ('num', scaler, ['temperature_celsius', 'wind_kph', 'pressure_in', 'humidity', 'cloud'] + list(data.columns[7:]))\n",
        "    ])\n",
        "\n",
        "# Create an SVR model\n",
        "svr = SVR(kernel='linear', C=1.0)\n",
        "\n",
        "# Create a pipeline that includes data preprocessing and the SVR model\n",
        "pipeline = Pipeline([\n",
        "    ('preprocessor', preprocessor),\n",
        "    ('svr', svr)\n",
        "])\n",
        "\n",
        "# Train the SVR model using the pipeline\n",
        "pipeline.fit(X_train, y_train)\n",
        "\n",
        "# Make predictions\n",
        "y_pred = pipeline.predict(X_test)\n",
        "\n",
        "# Evaluate the model\n",
        "mse = mean_squared_error(y_test, y_pred)\n",
        "r2 = r2_score(y_test, y_pred)\n",
        "\n",
        "print(f\"Mean Squared Error: {mse}\")\n",
        "print(f\"R-squared: {r2}\")"
      ]
    }
  ]
}